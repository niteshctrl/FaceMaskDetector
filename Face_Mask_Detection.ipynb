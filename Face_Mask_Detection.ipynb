{
  "nbformat": 4,
  "nbformat_minor": 5,
  "metadata": {
    "colab": {
      "name": "Face_Mask_Detection.ipynb",
      "provenance": [],
      "collapsed_sections": [],
      "include_colab_link": true
    },
    "kernelspec": {
      "display_name": "Python 3",
      "language": "python",
      "name": "python3"
    },
    "language_info": {
      "codemirror_mode": {
        "name": "ipython",
        "version": 3
      },
      "file_extension": ".py",
      "mimetype": "text/x-python",
      "name": "python",
      "nbconvert_exporter": "python",
      "pygments_lexer": "ipython3",
      "version": "3.8.3"
    },
    "accelerator": "GPU"
  },
  "cells": [
    {
      "cell_type": "markdown",
      "metadata": {
        "id": "view-in-github",
        "colab_type": "text"
      },
      "source": [
        "<a href=\"https://colab.research.google.com/github/niteshctrl/mask_detection/blob/main/Face_Mask_Detection.ipynb\" target=\"_parent\"><img src=\"https://colab.research.google.com/assets/colab-badge.svg\" alt=\"Open In Colab\"/></a>"
      ]
    },
    {
      "cell_type": "code",
      "metadata": {
        "colab": {
          "base_uri": "https://localhost:8080/"
        },
        "id": "lBV-TrcreJOG",
        "outputId": "f7537271-4acb-4ac9-a3fa-12a5220d73a8"
      },
      "source": [
        "pip install -q -U keras-tuner"
      ],
      "id": "lBV-TrcreJOG",
      "execution_count": 25,
      "outputs": [
        {
          "output_type": "stream",
          "text": [
            "\u001b[?25l\r\u001b[K     |███▍                            | 10kB 20.5MB/s eta 0:00:01\r\u001b[K     |██████▉                         | 20kB 21.5MB/s eta 0:00:01\r\u001b[K     |██████████▏                     | 30kB 10.6MB/s eta 0:00:01\r\u001b[K     |█████████████▋                  | 40kB 8.7MB/s eta 0:00:01\r\u001b[K     |█████████████████               | 51kB 5.4MB/s eta 0:00:01\r\u001b[K     |████████████████████▍           | 61kB 6.4MB/s eta 0:00:01\r\u001b[K     |███████████████████████▊        | 71kB 6.3MB/s eta 0:00:01\r\u001b[K     |███████████████████████████▏    | 81kB 6.6MB/s eta 0:00:01\r\u001b[K     |██████████████████████████████▋ | 92kB 6.0MB/s eta 0:00:01\r\u001b[K     |████████████████████████████████| 102kB 4.7MB/s \n",
            "\u001b[?25h  Building wheel for kt-legacy (setup.py) ... \u001b[?25l\u001b[?25hdone\n"
          ],
          "name": "stdout"
        }
      ]
    },
    {
      "cell_type": "code",
      "metadata": {
        "id": "4a1deaf0",
        "colab": {
          "base_uri": "https://localhost:8080/"
        },
        "outputId": "55a4e148-9d28-4554-cbf0-96dca207bcbc"
      },
      "source": [
        "# Import Libraries\n",
        "\n",
        "\n",
        "import os\n",
        "import cv2\n",
        "import glob\n",
        "from google.colab import drive\n",
        "from google.colab import files\n",
        "import matplotlib.pyplot as plt\n",
        "import xml.etree.ElementTree as ET\n",
        "\n",
        "import tensorflow as tf\n",
        "import kerastuner as kt\n",
        "from tensorflow import keras as K\n",
        "from tensorflow.keras.metrics import AUC\n",
        "from tensorflow.keras.optimizers import Adam\n",
        "from tensorflow.keras import Model, Sequential\n",
        "from tensorflow.keras.applications import MobileNetV2, VGG16\n",
        "from tensorflow.keras.layers import Flatten, Dense, Conv2D, Dropout\n",
        "from tensorflow.keras.preprocessing.image import ImageDataGenerator\n",
        "from tensorflow.keras.applications.mobilenet_v2 import preprocess_input\n",
        "from tensorflow.keras.callbacks import EarlyStopping, ReduceLROnPlateau, ModelCheckpoint"
      ],
      "id": "4a1deaf0",
      "execution_count": 26,
      "outputs": [
        {
          "output_type": "stream",
          "text": [
            "/usr/local/lib/python3.7/dist-packages/ipykernel_launcher.py:13: DeprecationWarning: `import kerastuner` is deprecated, please use `import keras_tuner`.\n",
            "  del sys.path[0]\n"
          ],
          "name": "stderr"
        }
      ]
    },
    {
      "cell_type": "code",
      "metadata": {
        "id": "Hy9lKss3mHel",
        "colab": {
          "base_uri": "https://localhost:8080/"
        },
        "outputId": "aaead2a8-e917-4542-8b7c-28b85f8e3643"
      },
      "source": [
        "# Connect Google Drive\n",
        "\n",
        "drive.mount('/content/gdrive')"
      ],
      "id": "Hy9lKss3mHel",
      "execution_count": 2,
      "outputs": [
        {
          "output_type": "stream",
          "text": [
            "Mounted at /content/gdrive\n"
          ],
          "name": "stdout"
        }
      ]
    },
    {
      "cell_type": "code",
      "metadata": {
        "colab": {
          "base_uri": "https://localhost:8080/"
        },
        "id": "5ZAUeFyNu39l",
        "outputId": "1733e4be-6653-4286-f32f-d0a860be03ef"
      },
      "source": [
        "cd '/content/gdrive/MyDrive/datasets/mask_detection'"
      ],
      "id": "5ZAUeFyNu39l",
      "execution_count": 3,
      "outputs": [
        {
          "output_type": "stream",
          "text": [
            "/content/gdrive/MyDrive/datasets/mask_detection\n"
          ],
          "name": "stdout"
        }
      ]
    },
    {
      "cell_type": "code",
      "metadata": {
        "colab": {
          "base_uri": "https://localhost:8080/",
          "height": 35
        },
        "id": "_2taeo1VvMUR",
        "outputId": "c5990b44-d9a9-4f80-8490-3d69aa1a0d10"
      },
      "source": [
        "pwd"
      ],
      "id": "_2taeo1VvMUR",
      "execution_count": 4,
      "outputs": [
        {
          "output_type": "execute_result",
          "data": {
            "application/vnd.google.colaboratory.intrinsic+json": {
              "type": "string"
            },
            "text/plain": [
              "'/content/gdrive/MyDrive/datasets/mask_detection'"
            ]
          },
          "metadata": {
            "tags": []
          },
          "execution_count": 4
        }
      ]
    },
    {
      "cell_type": "code",
      "metadata": {
        "colab": {
          "resources": {
            "http://localhost:8080/nbextensions/google.colab/files.js": {
              "data": "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",
              "ok": true,
              "headers": [
                [
                  "content-type",
                  "application/javascript"
                ]
              ],
              "status": 200,
              "status_text": ""
            }
          },
          "base_uri": "https://localhost:8080/",
          "height": 145
        },
        "id": "Hdg9v0NruJ3U",
        "outputId": "2387f8f3-18a6-4eca-9df0-961ff78156ac"
      },
      "source": [
        "# Download the Data from Kaggle\n",
        "\n",
        "# Upload Kaggle API Key\n",
        "\n",
        "files.upload()\n",
        "\n",
        "# Install Kaggle Library and auth permission\n",
        "\n",
        "!pip install -q kaggle\n",
        "!mkdir -p ~/.kaggle\n",
        "!cp kaggle.json ~/.kaggle/\n",
        "!ls ~/.kaggle\n",
        "!chmod 600 /root/.kaggle/kaggle.json  # set permission\n",
        "\n",
        "\n",
        "# Data Download from Kaggle\n",
        "\n",
        "!kaggle datasets download -d 'andrewmvd/face-mask-detection' # -p '/content/gdrive/My Drive/colab/amazon'"
      ],
      "id": "Hdg9v0NruJ3U",
      "execution_count": null,
      "outputs": [
        {
          "output_type": "display_data",
          "data": {
            "text/html": [
              "\n",
              "     <input type=\"file\" id=\"files-503c4051-e47c-4a57-9705-5f1715143aad\" name=\"files[]\" multiple disabled\n",
              "        style=\"border:none\" />\n",
              "     <output id=\"result-503c4051-e47c-4a57-9705-5f1715143aad\">\n",
              "      Upload widget is only available when the cell has been executed in the\n",
              "      current browser session. Please rerun this cell to enable.\n",
              "      </output>\n",
              "      <script src=\"/nbextensions/google.colab/files.js\"></script> "
            ],
            "text/plain": [
              "<IPython.core.display.HTML object>"
            ]
          },
          "metadata": {
            "tags": []
          }
        },
        {
          "output_type": "stream",
          "text": [
            "Saving kaggle.json to kaggle.json\n",
            "kaggle.json\n",
            "Downloading face-mask-detection.zip to /content/gdrive/My Drive/datasets/mask_detection\n",
            "100% 398M/398M [00:03<00:00, 115MB/s]\n",
            "\n"
          ],
          "name": "stdout"
        }
      ]
    },
    {
      "cell_type": "code",
      "metadata": {
        "id": "E17VFWIgvamN"
      },
      "source": [
        "!unzip face-mask-detection.zip"
      ],
      "id": "E17VFWIgvamN",
      "execution_count": null,
      "outputs": []
    },
    {
      "cell_type": "code",
      "metadata": {
        "id": "e462f8e8"
      },
      "source": [
        "# A few Global variables\n",
        "\n",
        "image_size = [224, 224]\n",
        "\n",
        "anno_dir = 'annotations/'\n",
        "images_dir = 'images/'\n",
        "face_crops_dir = 'face_crops/'"
      ],
      "id": "e462f8e8",
      "execution_count": 5,
      "outputs": []
    },
    {
      "cell_type": "code",
      "metadata": {
        "id": "14bb6890"
      },
      "source": [
        "'''The annotations directory has 853 XML files with nomenclature as \n",
        "\"maksssksksss<_>.xml\" where <_> stands for a number ranging from 0 to 852\n",
        "\n",
        "Similarly for images \"maksssksksss<_>.png\" for corresponding image file of XML\n",
        "\n",
        "Since we have 3 classes(with_mask, without_mask and mask_weared_incorrect), \n",
        "we will dump the face crops in three different directories after cropping the \n",
        "faces.\n",
        "'''\n",
        "\n",
        "def dump_face_crops(anno_dir, images_dir, face_crops_dir):\n",
        "\n",
        "    if not os.path.exists(face_crops_dir+'with_mask'):\n",
        "        os.makedirs(face_crops_dir+'with_mask')\n",
        "    if not os.path.exists(face_crops_dir+'without_mask'):\n",
        "        os.makedirs(face_crops_dir+'without_mask')\n",
        "    if not os.path.exists(face_crops_dir+'mask_weared_incorrect'):\n",
        "        os.makedirs(face_crops_dir+'mask_weared_incorrect')\n",
        "\n",
        "    j = 0\n",
        "    anno_files_count = len(glob.glob(anno_dir+'*')) # Number of annotation files\n",
        "    for i in range(anno_files_count):\n",
        "        tree = ET.parse(anno_dir+'maksssksksss'+str(i)+'.xml') # Parse the XML tree\n",
        "        root = tree.getroot() # Get the root\n",
        "\n",
        "        objects = root.findall('object')\n",
        "        for obj in objects:         # Iterate through all the objects(aka faces)\n",
        "            name = obj.find('name').text\n",
        "\n",
        "            bndbox = obj.find('bndbox')\n",
        "            xmin = int(bndbox.find('xmin').text)\n",
        "            ymin = int(bndbox.find('ymin').text)\n",
        "            xmax = int(bndbox.find('xmax').text)\n",
        "            ymax = int(bndbox.find('ymax').text)\n",
        "\n",
        "\n",
        "            #########################\n",
        "            # Crop and save the faces\n",
        "            cropped = cv2.imread(images_dir+'maksssksksss'+str(i)+'.png')\n",
        "            cropped = cropped[ymin:ymax, xmin:xmax]\n",
        "            cv2.imwrite(face_crops_dir+name+'/'+str(j)+'.jpg', cropped)\n",
        "            j = j + 1"
      ],
      "id": "14bb6890",
      "execution_count": null,
      "outputs": []
    },
    {
      "cell_type": "code",
      "metadata": {
        "id": "vrxelmQ7vBOj"
      },
      "source": [
        "dump_face_crops(anno_dir, images_dir, face_crops_dir)"
      ],
      "id": "vrxelmQ7vBOj",
      "execution_count": null,
      "outputs": []
    },
    {
      "cell_type": "code",
      "metadata": {
        "id": "1f074e99"
      },
      "source": [
        "# Defining the Model function\n",
        "\n",
        "\n",
        "def build_model():\n",
        "    classes_count = glob.glob(face_crops_dir+'*')\n",
        "\n",
        "    base_model = MobileNetV2(weights='imagenet', \n",
        "                             include_top=False, \n",
        "                             input_shape=(224, 224, 3))\n",
        "\n",
        "    head_model = base_model.output\n",
        "    head_model = Flatten()(head_model)\n",
        "    head_model = Dropout(0.5)(head_model)\n",
        "    head_model = Dense(128, activation='relu', kernel_initializer=\"he_normal\")(head_model)\n",
        "    head_model = Dropout(0.5)(head_model)\n",
        "    head_model = Dense(64, activation='relu', kernel_initializer=\"he_normal\")(head_model)\n",
        "    head_model = Dropout(0.5)(head_model)\n",
        "    head_model = Dense(32, activation='relu', kernel_initializer=\"he_normal\")(head_model)\n",
        "    head_model = Dense(len(classes_count), activation='softmax')(head_model)\n",
        "\n",
        "    # Place the head model on top of the base model\n",
        "\n",
        "    model = Model(inputs=base_model.input, outputs=head_model)\n",
        "    for layer in base_model.layers:\n",
        "        layer.trainable = False\n",
        "\n",
        "        \n",
        "    model.compile(optimizer=tf.keras.optimizers.Adam(learning_rate=0.001),\n",
        "                  metrics=['accuracy'], \n",
        "                  loss='categorical_crossentropy'\n",
        "                 )\n",
        "    \n",
        "    return model"
      ],
      "id": "1f074e99",
      "execution_count": 20,
      "outputs": []
    },
    {
      "cell_type": "code",
      "metadata": {
        "id": "EDBULaQseWh8"
      },
      "source": [
        "# Defining the Model function\n",
        "\n",
        "\n",
        "def model_builder(hp):\n",
        "    classes_count = glob.glob(face_crops_dir+'*')\n",
        "    hp_dropout = hp.Choice('dropout', values=[0.1, 0.25, 0.5])\n",
        "\n",
        "    base_model = MobileNetV2(weights='imagenet', \n",
        "                             include_top=False, \n",
        "                             input_shape=(224, 224, 3))\n",
        "\n",
        "    head_model = base_model.output\n",
        "    head_model = Flatten()(head_model)\n",
        "\n",
        "    head_model = Dropout(hp_dropout)(head_model)\n",
        "    head_model = Dense(128, activation='relu', kernel_initializer=\"he_normal\")(head_model)\n",
        "    \n",
        "    head_model = Dropout(hp_dropout)(head_model)\n",
        "    head_model = Dense(64, activation='relu', kernel_initializer=\"he_normal\")(head_model)\n",
        "    \n",
        "    head_model = Dropout(hp_dropout)(head_model)\n",
        "    head_model = Dense(32, activation='relu', kernel_initializer=\"he_normal\")(head_model)\n",
        "    head_model = Dense(len(classes_count), activation='softmax')(head_model)\n",
        "\n",
        "    # Place the head model on top of the base model\n",
        "\n",
        "    model = Model(inputs=base_model.input, outputs=head_model)\n",
        "    for layer in base_model.layers:\n",
        "        layer.trainable = False\n",
        "\n",
        "        \n",
        "    model.compile(optimizer=tf.keras.optimizers.Adam(learning_rate=0.001),\n",
        "                  metrics=['accuracy'], \n",
        "                  loss='categorical_crossentropy'\n",
        "                 )\n",
        "    \n",
        "    return model"
      ],
      "id": "EDBULaQseWh8",
      "execution_count": 27,
      "outputs": []
    },
    {
      "cell_type": "code",
      "metadata": {
        "id": "fe7f77d2",
        "colab": {
          "base_uri": "https://localhost:8080/"
        },
        "outputId": "472d30f0-5446-4c40-dfdc-13c17e417e98"
      },
      "source": [
        "######################### Defining the Checkpoints ##########################\n",
        "\n",
        "early_stop = EarlyStopping(monitor='val_loss', \n",
        "                           patience=8,\n",
        "                           restore_best_weights=True\n",
        "                          )\n",
        "\n",
        "lr_scheduler = ReduceLROnPlateau(monitor='val_loss',\n",
        "                                 factor=0.1, \n",
        "                                 patience=4\n",
        "                                 )\n",
        "\n",
        "model_checkpoint = ModelCheckpoint(filepath='model.h5',\n",
        "                                   monitor='val_loss',\n",
        "                                   save_best_only=True,\n",
        "                                   save_weights_only=True\n",
        "                                  )\n",
        "#############################################################################\n",
        "\n",
        "\n",
        "############################# Data Augmentation #############################\n",
        "generator = ImageDataGenerator(rotation_range=10, \n",
        "                               brightness_range=(0.5, 1.5), \n",
        "                               horizontal_flip=True,\n",
        "                               preprocessing_function=preprocess_input,\n",
        "                               validation_split=0.2,\n",
        "                              )\n",
        "\n",
        "iterator_train = generator.flow_from_directory(face_crops_dir, \n",
        "                                               target_size=image_size,\n",
        "                                               subset='training',\n",
        "                                               batch_size=32\n",
        "                                              )\n",
        "\n",
        "iterator_val = generator.flow_from_directory(face_crops_dir, \n",
        "                                             target_size=image_size,\n",
        "                                             subset='validation',\n",
        "                                             batch_size=32\n",
        "                                            )\n",
        "############################################################################"
      ],
      "id": "fe7f77d2",
      "execution_count": 30,
      "outputs": [
        {
          "output_type": "stream",
          "text": [
            "Found 3259 images belonging to 3 classes.\n",
            "Found 813 images belonging to 3 classes.\n"
          ],
          "name": "stdout"
        }
      ]
    },
    {
      "cell_type": "code",
      "metadata": {
        "colab": {
          "base_uri": "https://localhost:8080/"
        },
        "id": "UelWoM01V5Hx",
        "outputId": "ac5c1a0a-29e5-4f68-d2f4-1690cb08dc09"
      },
      "source": [
        "# Class Indices\n",
        "\n",
        "print(iterator_train.class_indices)\n",
        "\n",
        "# Write to text file\n",
        "with open('classMapping.txt','w') as text_file:\n",
        "    text_file.write(str(iterator_train.class_indices))"
      ],
      "id": "UelWoM01V5Hx",
      "execution_count": 18,
      "outputs": [
        {
          "output_type": "stream",
          "text": [
            "{'mask_weared_incorrect': 0, 'with_mask': 1, 'without_mask': 2}\n"
          ],
          "name": "stdout"
        }
      ]
    },
    {
      "cell_type": "code",
      "metadata": {
        "colab": {
          "base_uri": "https://localhost:8080/"
        },
        "id": "FsgutdpjflSA",
        "outputId": "93c2caad-b96f-4581-d285-53cc3b578bfc"
      },
      "source": [
        "tuner = kt.Hyperband(model_builder, \n",
        "                     objective='val_accuracy',\n",
        "                     max_epochs=100\n",
        "                     )\n",
        "\n",
        "tuner.search(iterator_train, \n",
        "             epochs=100, \n",
        "             validation_data=iterator_val,\n",
        "             callbacks=[early_stop, lr_scheduler])"
      ],
      "id": "FsgutdpjflSA",
      "execution_count": 32,
      "outputs": [
        {
          "output_type": "stream",
          "text": [
            "Trial 3 Complete [00h 01m 37s]\n",
            "val_accuracy: 0.8437884449958801\n",
            "\n",
            "Best val_accuracy So Far: 0.8437884449958801\n",
            "Total elapsed time: 00h 04m 51s\n",
            "INFO:tensorflow:Oracle triggered exit\n"
          ],
          "name": "stdout"
        }
      ]
    },
    {
      "cell_type": "code",
      "metadata": {
        "colab": {
          "base_uri": "https://localhost:8080/"
        },
        "id": "fQKrGuR9koOe",
        "outputId": "4123bf99-96c1-44e2-f751-e705bc59d921"
      },
      "source": [
        "best_hps=tuner.get_best_hyperparameters(num_trials=1)[0]\n",
        "\n",
        "print('The best dropout rate from Keras Tuner turned out to be {}'.format(best_hps.get('dropout')))"
      ],
      "id": "fQKrGuR9koOe",
      "execution_count": 35,
      "outputs": [
        {
          "output_type": "stream",
          "text": [
            "The best dropout rate from Keras Tuner turned out to be 0.1\n"
          ],
          "name": "stdout"
        }
      ]
    },
    {
      "cell_type": "code",
      "metadata": {
        "colab": {
          "base_uri": "https://localhost:8080/"
        },
        "id": "hgrbqxHYlaip",
        "outputId": "c739ae33-d94b-4311-8243-f82533611ce7"
      },
      "source": [
        "# Build the model with the optimal hyperparameters and train it on the data for 50 epochs\n",
        "\n",
        "model = tuner.hypermodel.build(best_hps)\n",
        "history = model.fit(iterator_train,\n",
        "                    epochs=50,\n",
        "                    validation_data=iterator_val,\n",
        "                    callbacks=[lr_scheduler, early_stop, model_checkpoint])"
      ],
      "id": "hgrbqxHYlaip",
      "execution_count": 36,
      "outputs": [
        {
          "output_type": "stream",
          "text": [
            "Epoch 1/50\n",
            "102/102 [==============================] - 49s 457ms/step - loss: 2.7101 - accuracy: 0.7318 - val_loss: 0.5539 - val_accuracy: 0.8462\n",
            "Epoch 2/50\n",
            "102/102 [==============================] - 46s 450ms/step - loss: 0.6369 - accuracy: 0.8248 - val_loss: 0.3762 - val_accuracy: 0.8462\n",
            "Epoch 3/50\n",
            "102/102 [==============================] - 46s 453ms/step - loss: 0.4370 - accuracy: 0.8619 - val_loss: 0.3191 - val_accuracy: 0.8856\n",
            "Epoch 4/50\n",
            "102/102 [==============================] - 46s 450ms/step - loss: 0.3351 - accuracy: 0.8819 - val_loss: 0.3142 - val_accuracy: 0.8844\n",
            "Epoch 5/50\n",
            "102/102 [==============================] - 46s 450ms/step - loss: 0.3103 - accuracy: 0.8981 - val_loss: 0.3085 - val_accuracy: 0.8770\n",
            "Epoch 6/50\n",
            "102/102 [==============================] - 46s 451ms/step - loss: 0.2673 - accuracy: 0.8981 - val_loss: 0.3931 - val_accuracy: 0.8598\n",
            "Epoch 7/50\n",
            "102/102 [==============================] - 46s 450ms/step - loss: 0.2562 - accuracy: 0.9095 - val_loss: 0.4374 - val_accuracy: 0.8585\n",
            "Epoch 8/50\n",
            "102/102 [==============================] - 46s 450ms/step - loss: 0.2335 - accuracy: 0.9187 - val_loss: 0.2975 - val_accuracy: 0.8967\n",
            "Epoch 9/50\n",
            "102/102 [==============================] - 46s 451ms/step - loss: 0.2477 - accuracy: 0.9064 - val_loss: 0.2809 - val_accuracy: 0.8979\n",
            "Epoch 10/50\n",
            "102/102 [==============================] - 46s 453ms/step - loss: 0.2136 - accuracy: 0.9270 - val_loss: 0.2604 - val_accuracy: 0.8979\n",
            "Epoch 11/50\n",
            "102/102 [==============================] - 46s 451ms/step - loss: 0.1985 - accuracy: 0.9288 - val_loss: 0.3098 - val_accuracy: 0.8881\n",
            "Epoch 12/50\n",
            "102/102 [==============================] - 46s 448ms/step - loss: 0.1838 - accuracy: 0.9356 - val_loss: 0.2855 - val_accuracy: 0.9077\n",
            "Epoch 13/50\n",
            "102/102 [==============================] - 46s 449ms/step - loss: 0.1713 - accuracy: 0.9377 - val_loss: 0.2747 - val_accuracy: 0.9028\n",
            "Epoch 14/50\n",
            "102/102 [==============================] - 46s 448ms/step - loss: 0.1760 - accuracy: 0.9414 - val_loss: 0.3244 - val_accuracy: 0.9016\n",
            "Epoch 15/50\n",
            "102/102 [==============================] - 46s 450ms/step - loss: 0.1460 - accuracy: 0.9472 - val_loss: 0.2780 - val_accuracy: 0.9164\n",
            "Epoch 16/50\n",
            "102/102 [==============================] - 46s 449ms/step - loss: 0.1329 - accuracy: 0.9512 - val_loss: 0.2672 - val_accuracy: 0.9176\n",
            "Epoch 17/50\n",
            "102/102 [==============================] - 46s 449ms/step - loss: 0.1294 - accuracy: 0.9546 - val_loss: 0.2846 - val_accuracy: 0.8991\n",
            "Epoch 18/50\n",
            "102/102 [==============================] - 46s 449ms/step - loss: 0.1176 - accuracy: 0.9583 - val_loss: 0.2618 - val_accuracy: 0.9164\n"
          ],
          "name": "stdout"
        }
      ]
    },
    {
      "cell_type": "code",
      "metadata": {
        "colab": {
          "base_uri": "https://localhost:8080/"
        },
        "id": "VsXkjdyuoKZT",
        "outputId": "e438aff5-1c34-46da-8663-b55f52c3dfe7"
      },
      "source": [
        "# Find the optimal number of epochs to train the model with the hyperparameters obtained from the search.\n",
        "\n",
        "val_acc_per_epoch = history.history['val_accuracy']\n",
        "best_epoch = val_acc_per_epoch.index(max(val_acc_per_epoch)) + 1\n",
        "print('Best epoch: %d' % (best_epoch,))"
      ],
      "id": "VsXkjdyuoKZT",
      "execution_count": 37,
      "outputs": [
        {
          "output_type": "stream",
          "text": [
            "Best epoch: 16\n"
          ],
          "name": "stdout"
        }
      ]
    },
    {
      "cell_type": "code",
      "metadata": {
        "colab": {
          "base_uri": "https://localhost:8080/",
          "height": 851
        },
        "id": "UJZB5hqYbrq4",
        "outputId": "df4ba2e8-9032-492e-f49a-90f9cfae0fe3"
      },
      "source": [
        "# Plot the history keys of the trained model\n",
        "\n",
        "\n",
        "plt.plot(history.history['accuracy'])\n",
        "plt.plot(history.history['val_accuracy'])\n",
        "plt.title('model accuracy')\n",
        "plt.ylabel('accuracy')\n",
        "plt.xlabel('epoch')\n",
        "plt.legend(['train', 'test'], loc='upper left')\n",
        "plt.show()\n",
        "# summarize history for loss\n",
        "plt.plot(history.history['loss'])\n",
        "plt.plot(history.history['val_loss'])\n",
        "plt.title('model loss')\n",
        "plt.ylabel('loss')\n",
        "plt.xlabel('epoch')\n",
        "plt.legend(['train', 'test'], loc='upper left')\n",
        "plt.show()\n",
        "# Learning rate\n",
        "plt.plot(history.history['lr'])\n",
        "plt.title('Learning Rate')\n",
        "plt.ylabel('LR')\n",
        "plt.xlabel('epoch')\n",
        "plt.show()"
      ],
      "id": "UJZB5hqYbrq4",
      "execution_count": 39,
      "outputs": [
        {
          "output_type": "display_data",
          "data": {
            "image/png": "[encoded data removed]",
            "text/plain": [
              "<Figure size 432x288 with 1 Axes>"
            ]
          },
          "metadata": {
            "tags": [],
            "needs_background": "light"
          }
        },
        {
          "output_type": "display_data",
          "data": {
            "image/png": "[encoded data removed]",
            "text/plain": [
              "<Figure size 432x288 with 1 Axes>"
            ]
          },
          "metadata": {
            "tags": [],
            "needs_background": "light"
          }
        },
        {
          "output_type": "display_data",
          "data": {
            "image/png": "[encoded data removed]",
            "text/plain": [
              "<Figure size 432x288 with 1 Axes>"
            ]
          },
          "metadata": {
            "tags": [],
            "needs_background": "light"
          }
        }
      ]
    },
    {
      "cell_type": "code",
      "metadata": {
        "colab": {
          "base_uri": "https://localhost:8080/"
        },
        "id": "2XtazF9noTEW",
        "outputId": "bbfed264-63c7-49cd-b921-a44df0d212ee"
      },
      "source": [
        "# Re-instantiate the hypermodel and train it with the optimal number of epochs from above on the ENTIRE DATA\n",
        "\n",
        "hypermodel = tuner.hypermodel.build(best_hps)\n",
        "\n",
        "\n",
        "# Building the Data Generator again without validation split\n",
        "\n",
        "generator = ImageDataGenerator(rotation_range=10, \n",
        "                               brightness_range=(0.5, 1.5), \n",
        "                               horizontal_flip=True,\n",
        "                               preprocessing_function=preprocess_input                               \n",
        "                              )\n",
        "\n",
        "iterator = generator.flow_from_directory(face_crops_dir, \n",
        "                                        target_size=image_size,                                        \n",
        "                                        batch_size=32\n",
        "                                        )\n",
        "\n",
        "\n",
        "# Retrain the model\n",
        "hypermodel.fit(iterator,\n",
        "               epochs=best_epoch\n",
        "               )"
      ],
      "id": "2XtazF9noTEW",
      "execution_count": 38,
      "outputs": [
        {
          "output_type": "stream",
          "text": [
            "Found 4072 images belonging to 3 classes.\n",
            "Epoch 1/16\n",
            "128/128 [==============================] - 48s 359ms/step - loss: 1.8877 - accuracy: 0.7588\n",
            "Epoch 2/16\n",
            "128/128 [==============================] - 46s 362ms/step - loss: 0.5299 - accuracy: 0.8291\n",
            "Epoch 3/16\n",
            "128/128 [==============================] - 46s 358ms/step - loss: 0.4086 - accuracy: 0.8649\n",
            "Epoch 4/16\n",
            "128/128 [==============================] - 46s 359ms/step - loss: 0.3446 - accuracy: 0.8856\n",
            "Epoch 5/16\n",
            "128/128 [==============================] - 46s 357ms/step - loss: 0.3129 - accuracy: 0.8878\n",
            "Epoch 6/16\n",
            "128/128 [==============================] - 46s 358ms/step - loss: 0.2908 - accuracy: 0.8971\n",
            "Epoch 7/16\n",
            "128/128 [==============================] - 46s 358ms/step - loss: 0.2750 - accuracy: 0.8993\n",
            "Epoch 8/16\n",
            "128/128 [==============================] - 46s 359ms/step - loss: 0.2413 - accuracy: 0.9106\n",
            "Epoch 9/16\n",
            "128/128 [==============================] - 46s 358ms/step - loss: 0.2374 - accuracy: 0.9113\n",
            "Epoch 10/16\n",
            "128/128 [==============================] - 46s 358ms/step - loss: 0.2276 - accuracy: 0.9158\n",
            "Epoch 11/16\n",
            "128/128 [==============================] - 46s 358ms/step - loss: 0.2154 - accuracy: 0.9258\n",
            "Epoch 12/16\n",
            "128/128 [==============================] - 46s 358ms/step - loss: 0.2106 - accuracy: 0.9199\n",
            "Epoch 13/16\n",
            "128/128 [==============================] - 46s 358ms/step - loss: 0.1792 - accuracy: 0.9271\n",
            "Epoch 14/16\n",
            "128/128 [==============================] - 46s 359ms/step - loss: 0.1979 - accuracy: 0.9295\n",
            "Epoch 15/16\n",
            "128/128 [==============================] - 46s 358ms/step - loss: 0.2057 - accuracy: 0.9263\n",
            "Epoch 16/16\n",
            "128/128 [==============================] - 46s 358ms/step - loss: 0.2115 - accuracy: 0.9226\n"
          ],
          "name": "stdout"
        },
        {
          "output_type": "execute_result",
          "data": {
            "text/plain": [
              "<tensorflow.python.keras.callbacks.History at 0x7f8c80c15090>"
            ]
          },
          "metadata": {
            "tags": []
          },
          "execution_count": 38
        }
      ]
    },
    {
      "cell_type": "code",
      "metadata": {
        "id": "dAerI8zwaRnF",
        "colab": {
          "base_uri": "https://localhost:8080/"
        },
        "outputId": "f41ae519-1c09-4a5b-d2e0-7d3db226eb54"
      },
      "source": [
        "# Saving the model\n",
        "\n",
        "hypermodel.save('SavedModel')"
      ],
      "id": "dAerI8zwaRnF",
      "execution_count": 42,
      "outputs": [
        {
          "output_type": "stream",
          "text": [
            "/usr/local/lib/python3.7/dist-packages/tensorflow/python/keras/utils/generic_utils.py:497: CustomMaskWarning: Custom mask layers require a config and must override get_config. When loading, the custom mask layer must be passed to the custom_objects argument.\n",
            "  category=CustomMaskWarning)\n"
          ],
          "name": "stderr"
        },
        {
          "output_type": "stream",
          "text": [
            "INFO:tensorflow:Assets written to: SavedModel/assets\n"
          ],
          "name": "stdout"
        }
      ]
    },
    {
      "cell_type": "code",
      "metadata": {
        "id": "fRcqm4Hhtoa4"
      },
      "source": [
        "# Saving the model weights for inference\n",
        "\n",
        "hypermodel.save_weights(\"ckpt\")"
      ],
      "id": "fRcqm4Hhtoa4",
      "execution_count": 43,
      "outputs": []
    },
    {
      "cell_type": "code",
      "metadata": {
        "id": "tCrhx2_RuZ7i"
      },
      "source": [
        "# HDF5 Format\n",
        "\n",
        "hypermodel.save_weights(\"hypermodel_weights.h5\")"
      ],
      "id": "tCrhx2_RuZ7i",
      "execution_count": 44,
      "outputs": []
    },
    {
      "cell_type": "code",
      "metadata": {
        "id": "hRj_SSbdpN27"
      },
      "source": [
        "# Inference\n",
        "\n",
        "def infer():\n",
        "    face_detector = cv2.CascadeClassifier('haarcascade.xml')\n",
        "    vid = cv2.VideoCapture(0)\n",
        "\n",
        "    while(True):\n",
        "        _, frame = vid.read()\n",
        "        grey = cv2.cvtColor(frame, cv2.COLOR_BGR2GRAY)\n",
        "        faces = face_detector.detectMultiScale(grey, 1.1, 4)\n",
        "        \n",
        "        if faces != ():\n",
        "            for (x,y,w,h) in faces:\n",
        "                crop = preprocess_input(frame[y:y+h, x:x+w])\n",
        "                crop = cv2.resize(crop, (224,224))\n",
        "                crop = crop.reshape(1,224,224,3)\n",
        "                prediction = model.predict(crop)\n",
        "                arg_pred = np.argmax(prediction[0])\n",
        "                if arg_pred == 1: # No Mask (Box in RED Color)\n",
        "                    cv2.rectangle(frame, (x,y), (x+w, y+h), (0,0,255), 1)\n",
        "                elif arg_pred == 0: # With Mask (Box in GREEN Color)\n",
        "                    cv2.rectangle(frame, (x,y), (x+w, y+h), (0,255,0), 1)\n",
        "                else: # Improper Mask   (Box in BLUE Color)\n",
        "                    cv2.rectangle(frame, (x,y), (x+w, y+h), (255,0,0), 1)\n",
        "\n",
        "\n",
        "        cv2.imshow('Frame', frame)\n",
        "\n",
        "        k = cv2.waitKey(30) & 0xff\n",
        "        if k==27:\n",
        "            break\n",
        "    vid.release()\n",
        "    cv2.destroyAllWindows()"
      ],
      "id": "hRj_SSbdpN27",
      "execution_count": null,
      "outputs": []
    },
    {
      "cell_type": "code",
      "metadata": {
        "id": "SqytXIMZpYCB"
      },
      "source": [
        "infer()"
      ],
      "id": "SqytXIMZpYCB",
      "execution_count": null,
      "outputs": []
    }
  ]
}